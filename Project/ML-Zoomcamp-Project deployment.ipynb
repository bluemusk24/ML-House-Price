{
 "cells": [
  {
   "cell_type": "code",
   "execution_count": 8,
   "id": "128c7f52",
   "metadata": {},
   "outputs": [],
   "source": [
    "import pandas as pd\n",
    "import numpy as np\n",
    "\n",
    "from sklearn.model_selection import train_test_split\n",
    "from sklearn.linear_model import LinearRegression\n",
    "from sklearn.feature_extraction import DictVectorizer\n",
    "from sklearn.metrics import mean_squared_error"
   ]
  },
  {
   "cell_type": "code",
   "execution_count": 9,
   "id": "f378a950",
   "metadata": {},
   "outputs": [],
   "source": [
    "df = pd.read_csv(\"C:\\\\Users\\\\emman\\\\kaggle datasets\\\\USA_Housing.csv\")\n",
    "\n",
    "df.columns = df.columns.str.lower().str.replace(' ','_')\n",
    "\n",
    "df['price'] = np.log1p(df['price'])\n",
    "\n",
    "object = list(df.dtypes[df.dtypes == 'object'].index)\n",
    "\n",
    "for col in object:\n",
    "    df[col] = df[col].str.lower()\n",
    "    \n",
    "df.index.names = ['index_col']"
   ]
  },
  {
   "cell_type": "code",
   "execution_count": 10,
   "id": "1854d2b6",
   "metadata": {},
   "outputs": [],
   "source": [
    "dv = DictVectorizer(sparse=False)\n",
    "\n",
    "LR = LinearRegression()"
   ]
  },
  {
   "cell_type": "code",
   "execution_count": 11,
   "id": "46cb422b",
   "metadata": {},
   "outputs": [],
   "source": [
    "df_full_train, df_test = train_test_split(df, test_size=0.2, random_state=1)"
   ]
  },
  {
   "cell_type": "code",
   "execution_count": 12,
   "id": "485f3ed6",
   "metadata": {},
   "outputs": [
    {
     "data": {
      "text/plain": [
       "LinearRegression()"
      ]
     },
     "execution_count": 12,
     "metadata": {},
     "output_type": "execute_result"
    }
   ],
   "source": [
    "dict_full_train = df_full_train.to_dict(orient='records')\n",
    "\n",
    "X_full_train = dv.fit_transform(dict_full_train)\n",
    "\n",
    "y_full_train = df_full_train['price'].values\n",
    "\n",
    "y_test = df_test['price'].values\n",
    "\n",
    "del df_full_train['price']\n",
    "\n",
    "del df_test['price']\n",
    "\n",
    "LR.fit(X_full_train,y_full_train)"
   ]
  },
  {
   "cell_type": "code",
   "execution_count": 13,
   "id": "8c097565",
   "metadata": {},
   "outputs": [],
   "source": [
    "def train(df_full_train, y_full_train):\n",
    "    dict_full_train = df_full_train.to_dict(orient='records')\n",
    "    \n",
    "    dv = DictVectorizer(sparse=False)\n",
    "    X_full_train = dv.fit_transform(dict_full_train)\n",
    "    \n",
    "    LR = LinearRegression()\n",
    "    LR.fit(X_full_train,y_full_train)\n",
    "    \n",
    "    return dv, LR"
   ]
  },
  {
   "cell_type": "code",
   "execution_count": 14,
   "id": "674e1755",
   "metadata": {},
   "outputs": [],
   "source": [
    "def predict(df, dv, LR):\n",
    "    dict_test = df_test.to_dict(orient='records')\n",
    "    \n",
    "    X_test = dv.transform(dict_test)\n",
    "    y_pred = LR.predict(X_test)\n",
    "    \n",
    "    mse = mean_squared_error(y_pred, y_test)\n",
    "    rmse = np.sqrt(mse)\n",
    "    \n",
    "    return rmse"
   ]
  },
  {
   "cell_type": "code",
   "execution_count": 15,
   "id": "5b18c542",
   "metadata": {},
   "outputs": [
    {
     "data": {
      "text/plain": [
       "0.1564233414342581"
      ]
     },
     "execution_count": 15,
     "metadata": {},
     "output_type": "execute_result"
    }
   ],
   "source": [
    "dv, LR = train(df_full_train, y_full_train)\n",
    "rmse = predict(df_test, dv, LR)\n",
    "rmse"
   ]
  },
  {
   "cell_type": "code",
   "execution_count": 19,
   "id": "59f00684",
   "metadata": {},
   "outputs": [
    {
     "name": "stdout",
     "output_type": "stream",
     "text": [
      "predicted_price : 682262.852\n",
      "actual_price : 565937.201\n"
     ]
    }
   ],
   "source": [
    "house_ten = df_test.iloc[10].to_dict()\n",
    "\n",
    "df_house_ten = pd.DataFrame([house_ten])\n",
    "\n",
    "#dict_ten = df_house_ten.to_dict(orient='records')\n",
    "\n",
    "X_ten = dv.transform(house_ten)\n",
    "\n",
    "y_pred = LR.predict(X_ten)\n",
    "\n",
    "predicted_price = np.expm1(y_pred[0])\n",
    "\n",
    "actual_price = np.expm1(y_test[10])\n",
    "\n",
    "print('predicted_price :', predicted_price.round(3))\n",
    "print('actual_price :', actual_price.round(3))"
   ]
  },
  {
   "cell_type": "markdown",
   "id": "f778f4a8",
   "metadata": {},
   "source": [
    "# Save the model"
   ]
  },
  {
   "cell_type": "code",
   "execution_count": 92,
   "id": "4262e72f",
   "metadata": {},
   "outputs": [],
   "source": [
    "import pickle"
   ]
  },
  {
   "cell_type": "code",
   "execution_count": 93,
   "id": "1cf3a3e1",
   "metadata": {},
   "outputs": [
    {
     "data": {
      "text/plain": [
       "'LR.bin'"
      ]
     },
     "execution_count": 93,
     "metadata": {},
     "output_type": "execute_result"
    }
   ],
   "source": [
    "output_file = 'LR.bin'\n",
    "output_file"
   ]
  },
  {
   "cell_type": "code",
   "execution_count": 94,
   "id": "6a571a32",
   "metadata": {},
   "outputs": [],
   "source": [
    "with open(output_file, 'wb') as f_out:\n",
    "    pickle.dump((dv, LR), f_out)"
   ]
  },
  {
   "cell_type": "markdown",
   "id": "9330217f",
   "metadata": {},
   "source": [
    "# Load the file"
   ]
  },
  {
   "cell_type": "code",
   "execution_count": 1,
   "id": "f24ae59b",
   "metadata": {},
   "outputs": [],
   "source": [
    "import pickle"
   ]
  },
  {
   "cell_type": "code",
   "execution_count": 2,
   "id": "d7f5df9f",
   "metadata": {},
   "outputs": [],
   "source": [
    "model_file = 'LR.bin'"
   ]
  },
  {
   "cell_type": "code",
   "execution_count": 3,
   "id": "e0ebd267",
   "metadata": {},
   "outputs": [],
   "source": [
    "with open(model_file, 'rb') as f_in:\n",
    "    dv, LR = pickle.load(f_in)"
   ]
  },
  {
   "cell_type": "code",
   "execution_count": 4,
   "id": "8098c2af",
   "metadata": {},
   "outputs": [
    {
     "data": {
      "text/plain": [
       "(DictVectorizer(sparse=False), LinearRegression())"
      ]
     },
     "execution_count": 4,
     "metadata": {},
     "output_type": "execute_result"
    }
   ],
   "source": [
    "dv, LR"
   ]
  },
  {
   "cell_type": "code",
   "execution_count": 23,
   "id": "d0b2f529",
   "metadata": {},
   "outputs": [
    {
     "data": {
      "text/plain": [
       "{'avg._area_income': 71408.29574076342,\n",
       " 'avg._area_house_age': 6.565006381455809,\n",
       " 'avg._area_number_of_rooms': 7.232609527481563,\n",
       " 'avg._area_number_of_bedrooms': 6.21,\n",
       " 'area_population': 49463.04926333042,\n",
       " 'address': '8368 jacqueline run apt. 172\\ncollinsfort, sc 29889-1351'}"
      ]
     },
     "execution_count": 23,
     "metadata": {},
     "output_type": "execute_result"
    }
   ],
   "source": [
    "house_500 = df_test.iloc[500].to_dict()\n",
    "house_500"
   ]
  },
  {
   "cell_type": "code",
   "execution_count": null,
   "id": "374eb74b",
   "metadata": {},
   "outputs": [],
   "source": []
  }
 ],
 "metadata": {
  "kernelspec": {
   "display_name": "Python 3 (ipykernel)",
   "language": "python",
   "name": "python3"
  },
  "language_info": {
   "codemirror_mode": {
    "name": "ipython",
    "version": 3
   },
   "file_extension": ".py",
   "mimetype": "text/x-python",
   "name": "python",
   "nbconvert_exporter": "python",
   "pygments_lexer": "ipython3",
   "version": "3.9.12"
  }
 },
 "nbformat": 4,
 "nbformat_minor": 5
}
