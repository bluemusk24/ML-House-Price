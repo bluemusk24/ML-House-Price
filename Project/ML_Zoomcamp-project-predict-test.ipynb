{
 "cells": [
  {
   "cell_type": "code",
   "execution_count": 1,
   "id": "f42741a6",
   "metadata": {},
   "outputs": [],
   "source": [
    "import requests"
   ]
  },
  {
   "cell_type": "code",
   "execution_count": 10,
   "id": "8af08033",
   "metadata": {},
   "outputs": [],
   "source": [
    "url = 'http://localhost:8080/predict'"
   ]
  },
  {
   "cell_type": "code",
   "execution_count": 11,
   "id": "ec3d76ad",
   "metadata": {},
   "outputs": [],
   "source": [
    "house_ten = {'avg._area_income': 55340.608735324255,\n",
    " 'avg._area_house_age': 5.231696666386671,\n",
    " 'avg._area_number_of_rooms': 5.614293707083566,\n",
    " 'avg._area_number_of_bedrooms': 4.3,\n",
    " 'area_population': 34112.97062220211,\n",
    " 'address': '489 john locks\\nwest kylestad, il 55787-7291'}"
   ]
  },
  {
   "cell_type": "code",
   "execution_count": 16,
   "id": "ed84810b",
   "metadata": {},
   "outputs": [
    {
     "data": {
      "text/plain": [
       "<Response [200]>"
      ]
     },
     "execution_count": 16,
     "metadata": {},
     "output_type": "execute_result"
    }
   ],
   "source": [
    "requests.post(url, json=house_ten)"
   ]
  },
  {
   "cell_type": "code",
   "execution_count": 17,
   "id": "8c71baf9",
   "metadata": {},
   "outputs": [
    {
     "data": {
      "text/plain": [
       "{'average price of house_ten is': 682262.852}"
      ]
     },
     "execution_count": 17,
     "metadata": {},
     "output_type": "execute_result"
    }
   ],
   "source": [
    "response = requests.post(url, json=house_ten).json()\n",
    "response                                               #json outcome above to python dictionary"
   ]
  },
  {
   "cell_type": "code",
   "execution_count": null,
   "id": "fdf04dc2",
   "metadata": {},
   "outputs": [],
   "source": []
  }
 ],
 "metadata": {
  "kernelspec": {
   "display_name": "Python 3 (ipykernel)",
   "language": "python",
   "name": "python3"
  },
  "language_info": {
   "codemirror_mode": {
    "name": "ipython",
    "version": 3
   },
   "file_extension": ".py",
   "mimetype": "text/x-python",
   "name": "python",
   "nbconvert_exporter": "python",
   "pygments_lexer": "ipython3",
   "version": "3.9.12"
  }
 },
 "nbformat": 4,
 "nbformat_minor": 5
}
